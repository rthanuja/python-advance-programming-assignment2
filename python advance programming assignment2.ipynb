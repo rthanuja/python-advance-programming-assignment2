{
 "cells": [
  {
   "cell_type": "code",
   "execution_count": 1,
   "id": "cbc0700f",
   "metadata": {},
   "outputs": [],
   "source": [
    "'''1. Write a function that takes a positive integer num and calculates how many dots exist in a pentagonal shape around \n",
    "the center dot on the Nth iteration.'''\n",
    "def dotsinpentagon(n):\n",
    "    b=1\n",
    "    for i in range(n):\n",
    "        b+=5*i\n",
    "    return b     "
   ]
  },
  {
   "cell_type": "code",
   "execution_count": 2,
   "id": "f05fe4cd",
   "metadata": {},
   "outputs": [
    {
     "data": {
      "text/plain": [
       "1"
      ]
     },
     "execution_count": 2,
     "metadata": {},
     "output_type": "execute_result"
    }
   ],
   "source": [
    "dotsinpentagon(1)"
   ]
  },
  {
   "cell_type": "code",
   "execution_count": 3,
   "id": "c60390e0",
   "metadata": {},
   "outputs": [
    {
     "data": {
      "text/plain": [
       "6"
      ]
     },
     "execution_count": 3,
     "metadata": {},
     "output_type": "execute_result"
    }
   ],
   "source": [
    "dotsinpentagon(2)"
   ]
  },
  {
   "cell_type": "code",
   "execution_count": 4,
   "id": "817e9c6a",
   "metadata": {},
   "outputs": [
    {
     "data": {
      "text/plain": [
       "16"
      ]
     },
     "execution_count": 4,
     "metadata": {},
     "output_type": "execute_result"
    }
   ],
   "source": [
    "dotsinpentagon(3)"
   ]
  },
  {
   "cell_type": "code",
   "execution_count": 5,
   "id": "639b802f",
   "metadata": {},
   "outputs": [
    {
     "data": {
      "text/plain": [
       "141"
      ]
     },
     "execution_count": 5,
     "metadata": {},
     "output_type": "execute_result"
    }
   ],
   "source": [
    "dotsinpentagon(8)"
   ]
  },
  {
   "cell_type": "code",
   "execution_count": 6,
   "id": "f7f7630c",
   "metadata": {},
   "outputs": [],
   "source": [
    "'''2. Make a function that encrypts a given input with these steps:\n",
    "Step 1: Reverse the input\n",
    "Step 2: Replace all vowels using the following chart:\n",
    "a => 0; e =>1; i =>2; o =>2 ;u =>3\n",
    "Step 3: Add \"aca\" to the end of the word'''\n",
    "def encrypt(s):\n",
    "    d={\"a\":\"0\",\"e\":\"1\",\"i\":\"2\",\"o\":\"2\",\"u\":\"3\"}\n",
    "    l=\"\"\n",
    "    for i in s[::-1]:\n",
    "        if i in d.keys():\n",
    "            l+=d[i]\n",
    "        else:\n",
    "            l+=i\n",
    "    l+=\"aca\"\n",
    "    return l       "
   ]
  },
  {
   "cell_type": "code",
   "execution_count": 7,
   "id": "0cce27f2",
   "metadata": {},
   "outputs": [
    {
     "data": {
      "text/plain": [
       "'0n0n0baca'"
      ]
     },
     "execution_count": 7,
     "metadata": {},
     "output_type": "execute_result"
    }
   ],
   "source": [
    "encrypt(\"banana\") "
   ]
  },
  {
   "cell_type": "code",
   "execution_count": 8,
   "id": "89aff6db",
   "metadata": {},
   "outputs": [
    {
     "data": {
      "text/plain": [
       "'0c0r0kaca'"
      ]
     },
     "execution_count": 8,
     "metadata": {},
     "output_type": "execute_result"
    }
   ],
   "source": [
    "encrypt(\"karaca\") "
   ]
  },
  {
   "cell_type": "code",
   "execution_count": 9,
   "id": "1f6899a7",
   "metadata": {},
   "outputs": [
    {
     "data": {
      "text/plain": [
       "'k0r3baca'"
      ]
     },
     "execution_count": 9,
     "metadata": {},
     "output_type": "execute_result"
    }
   ],
   "source": [
    "encrypt(\"burak\") "
   ]
  },
  {
   "cell_type": "code",
   "execution_count": 10,
   "id": "d3ec0c76",
   "metadata": {},
   "outputs": [
    {
     "data": {
      "text/plain": [
       "'0c0pl0aca'"
      ]
     },
     "execution_count": 10,
     "metadata": {},
     "output_type": "execute_result"
    }
   ],
   "source": [
    "encrypt(\"alpaca\") "
   ]
  },
  {
   "cell_type": "code",
   "execution_count": 11,
   "id": "e6824fe7",
   "metadata": {},
   "outputs": [],
   "source": [
    "'''3. Given the month and year as numbers, return whether that month contains a Friday 13th'''\n",
    "import calendar \n",
    "import datetime\n",
    "from datetime import date\n",
    "def hasfriday13(month,year):\n",
    "    \"\"\"This function returns True if the given year and month contain afriday 13th or not\"\"\"\n",
    "    d=datetime.date(year,month,13)\n",
    "    if d.strftime(\"%A\")==\"Friday\":\n",
    "        return True\n",
    "    else:\n",
    "        return False"
   ]
  },
  {
   "cell_type": "code",
   "execution_count": 12,
   "id": "d67cf57e",
   "metadata": {},
   "outputs": [
    {
     "data": {
      "text/plain": [
       "True"
      ]
     },
     "execution_count": 12,
     "metadata": {},
     "output_type": "execute_result"
    }
   ],
   "source": [
    "hasfriday13(3,2020)"
   ]
  },
  {
   "cell_type": "code",
   "execution_count": 13,
   "id": "d8b7c648",
   "metadata": {},
   "outputs": [
    {
     "data": {
      "text/plain": [
       "True"
      ]
     },
     "execution_count": 13,
     "metadata": {},
     "output_type": "execute_result"
    }
   ],
   "source": [
    "hasfriday13(10,2017)"
   ]
  },
  {
   "cell_type": "code",
   "execution_count": 14,
   "id": "bf9c9ca0",
   "metadata": {},
   "outputs": [
    {
     "data": {
      "text/plain": [
       "False"
      ]
     },
     "execution_count": 14,
     "metadata": {},
     "output_type": "execute_result"
    }
   ],
   "source": [
    "hasfriday13(1,1985)"
   ]
  },
  {
   "cell_type": "code",
   "execution_count": 15,
   "id": "7076254c",
   "metadata": {},
   "outputs": [
    {
     "name": "stdout",
     "output_type": "stream",
     "text": [
      "2\n"
     ]
    }
   ],
   "source": [
    "'''4. Write a regular expression that will help us count how many bad cookies are produced every day. You must use \n",
    "RegEx negative lookbehind.'''\n",
    "import re\n",
    "lst = [\"bad cookie\", \"good cookie\", \"bad cookie\", \"good cookie\", \"good cookie\"]\n",
    "pattern = \"(?<!^good\\scookie)b\"\n",
    "\n",
    "print(len(re.findall(pattern, \",\".join(lst)))) \n"
   ]
  },
  {
   "cell_type": "code",
   "execution_count": 16,
   "id": "fe13c932",
   "metadata": {},
   "outputs": [],
   "source": [
    "'''5. Given a list of words in the singular form, return a set of those words in the plural form if they appear more \n",
    "than once in the list.'''\n",
    "def plural(l):\n",
    "    s=[]\n",
    "    for i in l:\n",
    "        if l.count(i)>1:\n",
    "            s.append(i+\"s\")\n",
    "        else:\n",
    "            s.append(i)\n",
    "    return set(s)"
   ]
  },
  {
   "cell_type": "code",
   "execution_count": 17,
   "id": "30e90874",
   "metadata": {},
   "outputs": [
    {
     "data": {
      "text/plain": [
       "{'cows', 'pig'}"
      ]
     },
     "execution_count": 17,
     "metadata": {},
     "output_type": "execute_result"
    }
   ],
   "source": [
    "plural([\"cow\",\"pig\",\"cow\",\"cow\"])"
   ]
  },
  {
   "cell_type": "code",
   "execution_count": 18,
   "id": "63ac49d7",
   "metadata": {},
   "outputs": [
    {
     "data": {
      "text/plain": [
       "{'tables'}"
      ]
     },
     "execution_count": 18,
     "metadata": {},
     "output_type": "execute_result"
    }
   ],
   "source": [
    "plural([\"table\",\"table\",\"table\"])"
   ]
  },
  {
   "cell_type": "code",
   "execution_count": 19,
   "id": "a8f688ea",
   "metadata": {},
   "outputs": [
    {
     "data": {
      "text/plain": [
       "{'arm', 'chair', 'pencil'}"
      ]
     },
     "execution_count": 19,
     "metadata": {},
     "output_type": "execute_result"
    }
   ],
   "source": [
    "plural([\"chair\",\"pencil\",\"arm\"])"
   ]
  }
 ],
 "metadata": {
  "kernelspec": {
   "display_name": "Python 3 (ipykernel)",
   "language": "python",
   "name": "python3"
  },
  "language_info": {
   "codemirror_mode": {
    "name": "ipython",
    "version": 3
   },
   "file_extension": ".py",
   "mimetype": "text/x-python",
   "name": "python",
   "nbconvert_exporter": "python",
   "pygments_lexer": "ipython3",
   "version": "3.10.9"
  }
 },
 "nbformat": 4,
 "nbformat_minor": 5
}
